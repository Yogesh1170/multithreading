{
 "cells": [
  {
   "cell_type": "code",
   "execution_count": 3,
   "id": "6467a561-422f-4369-a518-f87f8a9716cf",
   "metadata": {},
   "outputs": [
    {
     "data": {
      "text/plain": [
       "' Multithreading is defined as the ability of a processor to execute multiple threads concurrently.\\nPython threading allows you to have different parts of your program run concurrently and can simplify your design.\\nIf you\\'ve got some experience in Python and want to speed up your program using threads.\\nThe module \"thread\" treats a thread as a function, while the module \"threading\" is implemented in an object oriented way,\\ni.e. every thread corresponds to an object.'"
      ]
     },
     "execution_count": 3,
     "metadata": {},
     "output_type": "execute_result"
    }
   ],
   "source": [
    "#Q1what is multithreading in python? why is it used? Name the module used to handle threads in python\n",
    "''' Multithreading is defined as the ability of a processor to execute multiple threads concurrently.\n",
    "Python threading allows you to have different parts of your program run concurrently and can simplify your design.\n",
    "If you've got some experience in Python and want to speed up your program using threads.\n",
    "The module \"thread\" treats a thread as a function, while the module \"threading\" is implemented in an object oriented way,\n",
    "i.e. every thread corresponds to an object.'''"
   ]
  },
  {
   "cell_type": "code",
   "execution_count": 5,
   "id": "74756d35-5d2a-4955-afe4-045708301914",
   "metadata": {},
   "outputs": [
    {
     "data": {
      "text/plain": [
       "\"threading.activeCount() − Returns the number of thread objects that are active.\\nthreading.currentThread() − Returns the number of thread objects in the caller's thread control.\\nthreading.enumerate() − Returns a list of all thread objects that are currently active.\""
      ]
     },
     "execution_count": 5,
     "metadata": {},
     "output_type": "execute_result"
    }
   ],
   "source": [
    "#Q2why threading module used? write the use of the following functions\n",
    "'''The threading module provided with Python includes a simple-to-implement locking mechanism that allows you to synchronize threads.'''\n",
    "'''threading.activeCount() − Returns the number of thread objects that are active.\n",
    "threading.currentThread() − Returns the number of thread objects in the caller's thread control.\n",
    "threading.enumerate() − Returns a list of all thread objects that are currently active.'''"
   ]
  },
  {
   "cell_type": "code",
   "execution_count": 2,
   "id": "0608ecdb-bc90-4c6c-93d7-b2aa267f6efe",
   "metadata": {},
   "outputs": [
    {
     "data": {
      "text/plain": [
       "'Q3  run() − The run() method is the entry point for a thread.\\nstart() − The start() method starts a thread by calling the run method.\\njoin([time]) − The join() waits for threads to terminate.\\nisAlive() − The isAlive() method checks whether a thread is still executing.'"
      ]
     },
     "execution_count": 2,
     "metadata": {},
     "output_type": "execute_result"
    }
   ],
   "source": [
    "'''Q3  run() − The run() method is the entry point for a thread.\n",
    "start() − The start() method starts a thread by calling the run method.\n",
    "join([time]) − The join() waits for threads to terminate.\n",
    "isAlive() − The isAlive() method checks whether a thread is still executing.'''"
   ]
  },
  {
   "cell_type": "code",
   "execution_count": 33,
   "id": "2083c625-c317-4548-b973-5839a09d7288",
   "metadata": {},
   "outputs": [
    {
     "name": "stdout",
     "output_type": "stream",
     "text": [
      "Square: 100\n",
      "Cube: 1000\n"
     ]
    }
   ],
   "source": [
    "'''Q4write a python program to create two threads. Thread one must print the list of squares and thread\n",
    "two must print the list of cubes'''\n",
    "import threading\n",
    "def print_cube(num):\n",
    "    print(\"Cube: {}\" .format(num * num * num))\n",
    "def print_square(num):\n",
    "        print(\"Square: {}\" .format(num * num))\n",
    " \n",
    " \n",
    "if __name__ ==\"__main__\":\n",
    "    t1 = threading.Thread(target=print_square, args=(10,))\n",
    "    t2 = threading.Thread(target=print_cube, args=(10,))\n",
    "    t1.start()\n",
    "    t2.start()\n",
    "    t1.join()\n",
    "    \n",
    "    t2.join()\n"
   ]
  },
  {
   "cell_type": "code",
   "execution_count": 34,
   "id": "8db9e298-0c66-4cee-b9c3-81c9cbce52a6",
   "metadata": {},
   "outputs": [
    {
     "data": {
      "text/plain": [
       "'ADVANTAGES--\\nEnhanced performance by decreased development time.\\nSimplified and streamlined program coding.\\nImprovised GUI responsiveness.\\nDISADVANTAGES--\\nMultithreading adds complexity to the program\\nContext switching between threads consumes CPU time and resources,'"
      ]
     },
     "execution_count": 34,
     "metadata": {},
     "output_type": "execute_result"
    }
   ],
   "source": [
    "#Q5State advantages and disadvantages of multithreading\n",
    "'''ADVANTAGES--\n",
    "Enhanced performance by decreased development time.\n",
    "Simplified and streamlined program coding.\n",
    "Improvised GUI responsiveness.\n",
    "DISADVANTAGES--\n",
    "Multithreading adds complexity to the program\n",
    "Context switching between threads consumes CPU time and resources,'''\n"
   ]
  },
  {
   "cell_type": "code",
   "execution_count": null,
   "id": "ea7e6a02-6219-4aa8-bb9b-1b2c984f1c75",
   "metadata": {},
   "outputs": [],
   "source": []
  }
 ],
 "metadata": {
  "kernelspec": {
   "display_name": "Python 3 (ipykernel)",
   "language": "python",
   "name": "python3"
  },
  "language_info": {
   "codemirror_mode": {
    "name": "ipython",
    "version": 3
   },
   "file_extension": ".py",
   "mimetype": "text/x-python",
   "name": "python",
   "nbconvert_exporter": "python",
   "pygments_lexer": "ipython3",
   "version": "3.10.8"
  }
 },
 "nbformat": 4,
 "nbformat_minor": 5
}
